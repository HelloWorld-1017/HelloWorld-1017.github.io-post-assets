{
 "cells": [
  {
   "cell_type": "code",
   "execution_count": 1,
   "id": "a460b83d",
   "metadata": {
    "ExecuteTime": {
     "end_time": "2024-07-26T07:52:38.595341Z",
     "start_time": "2024-07-26T07:52:36.466289Z"
    }
   },
   "outputs": [
    {
     "data": {
      "text/plain": [
       "[('golden retriever', 96.57185363769531),\n",
       " ('Labrador retriever', 2.6082706451416016),\n",
       " ('cocker spaniel, English cocker spaniel, cocker', 0.2699621915817261),\n",
       " ('redbone', 0.17958936095237732),\n",
       " ('tennis ball', 0.10991999506950378)]"
      ]
     },
     "execution_count": 1,
     "metadata": {},
     "output_type": "execute_result"
    }
   ],
   "source": [
    "import torch\n",
    "from torchvision import models\n",
    "from torchvision.models import ResNet101_Weights\n",
    "from PIL import Image\n",
    "from torchvision import transforms\n",
    "\n",
    "# Obtain pre-trained ResNet-101\n",
    "resnet101 = models.resnet101(weights=ResNet101_Weights.IMAGENET1K_V1)\n",
    "\n",
    "\n",
    "# Define image preprocess pipeline\n",
    "preprocess = transforms.Compose([\n",
    "    transforms.Resize(256),\n",
    "    transforms.CenterCrop(224),\n",
    "    transforms.ToTensor(),\n",
    "    transforms.Normalize(\n",
    "        mean=[0.485, 0.456, 0.406],\n",
    "        std=[0.229, 0.224, 0.225]\n",
    "    )\n",
    "])\n",
    "\n",
    "\n",
    "# Load an image and preprocess it\n",
    "img = Image.open(\"bobby.jpg\") # img.size: (1280, 720)\n",
    "# img # Show the image inline\n",
    "# img.show() # Show the image in a new pop-up viewer window\n",
    "img_t = preprocess(img) # img_t.shape: (torch.Size([3, 224, 224])\n",
    "batch_t = torch.unsqueeze(img_t, 0)# batch_t.shape: torch.Size([1, 3, 224, 224]))\n",
    "\n",
    "\n",
    "# Put the network in `eval()` mode to do inference\n",
    "resnet101.eval()\n",
    "out = resnet101(batch_t) # out.shape: torch.Size([1, 1000])\n",
    "\n",
    "\n",
    "# Load labels from `.txt` file (1,000 labels)\n",
    "with open('imagenet_classes.txt') as f:\n",
    "    labels = [line.strip() for line in f.readlines()] \n",
    "\n",
    "\n",
    "# Determine the index corresponding to the maximum score in the `out` tensor\n",
    "_, index = torch.max(out,1) # index: tensor([207])\n",
    "percentage = torch.nn.functional.softmax(out, dim=1)[0]*100 # percentage.shape: torch.Size([1000])\n",
    "(labels[index[0]], percentage[index[0]].item()) # ('golden retriever', 96.57185363769531)\n",
    "\n",
    "\n",
    "# Determine the indexes corresponding to the top-5 maximum score in the `out` tensor\n",
    "_, indices = torch.sort(out, descending=True)\n",
    "[(labels[idx], percentage[idx].item()) for idx in indices[0][:5]]\n",
    "# [('golden retriever', 96.57185363769531),\n",
    "#  ('Labrador retriever', 2.6082706451416016),\n",
    "#  ('cocker spaniel, English cocker spaniel, cocker', 0.2699621915817261),\n",
    "#  ('redbone', 0.17958936095237732),\n",
    "#  ('tennis ball', 0.10991999506950378)]"
   ]
  }
 ],
 "metadata": {
  "kernelspec": {
   "display_name": "Python 3 (ipykernel)",
   "language": "python",
   "name": "python3"
  },
  "language_info": {
   "codemirror_mode": {
    "name": "ipython",
    "version": 3
   },
   "file_extension": ".py",
   "mimetype": "text/x-python",
   "name": "python",
   "nbconvert_exporter": "python",
   "pygments_lexer": "ipython3",
   "version": "3.11.9"
  },
  "toc": {
   "base_numbering": 1,
   "nav_menu": {},
   "number_sections": true,
   "sideBar": true,
   "skip_h1_title": false,
   "title_cell": "Table of Contents",
   "title_sidebar": "Contents",
   "toc_cell": false,
   "toc_position": {},
   "toc_section_display": true,
   "toc_window_display": false
  },
  "varInspector": {
   "cols": {
    "lenName": 16,
    "lenType": 16,
    "lenVar": 40
   },
   "kernels_config": {
    "python": {
     "delete_cmd_postfix": "",
     "delete_cmd_prefix": "del ",
     "library": "var_list.py",
     "varRefreshCmd": "print(var_dic_list())"
    },
    "r": {
     "delete_cmd_postfix": ") ",
     "delete_cmd_prefix": "rm(",
     "library": "var_list.r",
     "varRefreshCmd": "cat(var_dic_list()) "
    }
   },
   "types_to_exclude": [
    "module",
    "function",
    "builtin_function_or_method",
    "instance",
    "_Feature"
   ],
   "window_display": false
  }
 },
 "nbformat": 4,
 "nbformat_minor": 5
}
